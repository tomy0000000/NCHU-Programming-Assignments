{
 "cells": [
  {
   "cell_type": "markdown",
   "metadata": {},
   "source": [
    "# Initialization"
   ]
  },
  {
   "cell_type": "code",
   "execution_count": 1,
   "metadata": {},
   "outputs": [],
   "source": [
    "import json\n",
    "import logging\n",
    "import math\n",
    "import requests\n",
    "import jieba"
   ]
  },
  {
   "cell_type": "code",
   "execution_count": 2,
   "metadata": {},
   "outputs": [],
   "source": [
    "# Normal\n",
    "logging.getLogger().setLevel(logging.WARNING)\n",
    "# Debug\n",
    "# logging.getLogger().setLevel(logging.INFO)"
   ]
  },
  {
   "cell_type": "code",
   "execution_count": 3,
   "metadata": {
    "code_folding": [
     0,
     7,
     20,
     31,
     48,
     59
    ]
   },
   "outputs": [],
   "source": [
    "class Wiki(dict):\n",
    "    def __init__(self):\n",
    "        super(Wiki, self).__init__()\n",
    "    def __getitem__(self, key):\n",
    "        if key in self:\n",
    "            return super(Wiki, self).__getitem__(key)\n",
    "        return ReverseIndex(key, [])\n",
    "class ReverseIndex(object):\n",
    "    def __init__(self, key, indexes):\n",
    "        super(ReverseIndex, self).__init__()\n",
    "        self.key = key\n",
    "        self.indexes = indexes\n",
    "    def __len__(self):\n",
    "        return len(self.indexes)\n",
    "    def __getitem__(self, key):\n",
    "        return self.indexes[key]\n",
    "    def __iter__(self):\n",
    "        return iter(self.indexes)\n",
    "    def __and__(self, rev_ind):\n",
    "        return set(self.indexes).intersection(set(rev_ind.indexes))\n",
    "def tf(term, doc):\n",
    "    \"\"\"calculate term frequency\n",
    "    \n",
    "    Arguments:\n",
    "        term {str} -- keyword to be evaluate\n",
    "        doc {list} -- list of words splited from source document\n",
    "    \n",
    "    Returns:\n",
    "        int -- times that term appears in doc\n",
    "    \"\"\"\n",
    "    return doc.count(term)\n",
    "def df(term, docs):\n",
    "    \"\"\"calculate document frequency from a series of documents\n",
    "    \n",
    "    This is a modified version which use df directly from wiki reverse index.\n",
    "    For normal version, invert the comment\n",
    "    \n",
    "    Arguments:\n",
    "        term {str} -- keyword to be evaluate\n",
    "        docs {list} -- list doc defined by list of words splited from source document\n",
    "    \n",
    "    Returns:\n",
    "        int -- times that term appears in docs\n",
    "    \"\"\"\n",
    "    # count = 0\n",
    "    # for doc in docs:\n",
    "    #     count += doc.count(term)\n",
    "    return len(docs[term])\n",
    "def idf(df, docs_len):\n",
    "    \"\"\"convert document frequency into inverse document frequency\n",
    "    \n",
    "    Arguments:\n",
    "        df {int} -- document frequency\n",
    "        docs_len {int} -- total number of docs\n",
    "    \n",
    "    Returns:\n",
    "        float -- inverse document frequency\n",
    "    \"\"\"\n",
    "    return math.log10(docs_len/df)\n",
    "def tf_idf(term, doc, docs):\n",
    "    \"\"\"Define how important a term is in a document\n",
    "    \n",
    "    higher the value, term is more important to the doc.\n",
    "    An important term should be:\n",
    "        * Appears in few docs\n",
    "        * Appears many times in doc\n",
    "    \n",
    "    Arguments:\n",
    "        term {str} -- keyword to be evaluate\n",
    "        doc {list} -- document that keyword are to be rated, in this cse: question\n",
    "        docs {list} -- all documents, as an idf reference, in this case: WIKI\n",
    "    \n",
    "    Returns:\n",
    "        float -- tf-idf value\n",
    "    \"\"\"\n",
    "    term_tf = tf(term, doc)\n",
    "    term_df = df(term, docs)\n",
    "    if term_df > 0:\n",
    "        term_idf = idf(term_df, len(docs))\n",
    "        return (1 + math.log(term_tf)) * term_idf\n",
    "    return 0"
   ]
  },
  {
   "cell_type": "markdown",
   "metadata": {},
   "source": [
    "# Read Wiki"
   ]
  },
  {
   "cell_type": "code",
   "execution_count": 4,
   "metadata": {},
   "outputs": [
    {
     "name": "stdout",
     "output_type": "stream",
     "text": [
      "2404293 Keywords loaded\n"
     ]
    }
   ],
   "source": [
    "WIKI = Wiki()\n",
    "with open(\"Wiki_inverse_index\") as file:\n",
    "    lines = file.readlines()\n",
    "    for line in lines:\n",
    "        indexes = line.split()\n",
    "        key = indexes.pop(0)\n",
    "        indexes = list(map(int, indexes))\n",
    "        WIKI[key] = ReverseIndex(key, indexes)\n",
    "print(\"{} Keywords loaded\".format(len(WIKI)))"
   ]
  },
  {
   "cell_type": "markdown",
   "metadata": {},
   "source": [
    "# Question Solving"
   ]
  },
  {
   "cell_type": "markdown",
   "metadata": {},
   "source": [
    "## Method 1: Pure Term Frequency\n",
    "\n",
    "* Return occurrence percentage of each answer"
   ]
  },
  {
   "cell_type": "code",
   "execution_count": 5,
   "metadata": {
    "code_folding": [
     0
    ]
   },
   "outputs": [],
   "source": [
    "def solve_method_one(splited_question_dict):\n",
    "    splited_question_dict = splited_question_dict.copy()\n",
    "    splited_question_dict.pop(\"Question\")\n",
    "    splited_question_dict.pop(\"Answer : \", None)\n",
    "    scores = {}\n",
    "    for option, option_term in splited_question_dict.items():\n",
    "        scores[option] = len(WIKI[option_term])\n",
    "    percentage_scores = {}\n",
    "    for option in splited_question_dict:\n",
    "        percentage_scores[option] = scores[option] / (sum(scores.values()) or 1)\n",
    "    return percentage_scores"
   ]
  },
  {
   "cell_type": "markdown",
   "metadata": {},
   "source": [
    "## Method 2: TF-IDF\n",
    "\n",
    "1. Fetch keywords from question\n",
    "2. use (keyword, option) pair to calculate relation"
   ]
  },
  {
   "cell_type": "code",
   "execution_count": 6,
   "metadata": {
    "code_folding": [
     1,
     8,
     21
    ]
   },
   "outputs": [],
   "source": [
    "QUESTION_KEYWORD_THRESHOLD = 2.5\n",
    "def find_question_keywords(splited_question):\n",
    "    keywords = {}\n",
    "    for each in splited_question:\n",
    "        score = tf_idf(each, splited_question, WIKI)\n",
    "        if score > QUESTION_KEYWORD_THRESHOLD:\n",
    "            keywords[each] = score\n",
    "    return keywords\n",
    "def two_term_interaction_freq(option_term, qestion_keyword, keyword_weight):\n",
    "    interaction_freq = len(WIKI[option_term] & WIKI[qestion_keyword])\n",
    "    score = interaction_freq * keyword_weight\n",
    "    logging.info(\"{1:{0}<7} & {2:{0}<7} : {3:{0}<7} * {4:{0}<7} => {5:{0}<7}\".format(\n",
    "        chr(12288),\n",
    "        option_term,\n",
    "        qestion_keyword,\n",
    "        interaction_freq,\n",
    "        keyword_weight,\n",
    "        score\n",
    "        )\n",
    "    )\n",
    "    return score\n",
    "def solve_method_two(splited_question_dict):\n",
    "    splited_question_dict = splited_question_dict.copy()\n",
    "    keywords = find_question_keywords(splited_question_dict.pop(\"Question\"))\n",
    "    splited_question_dict.pop(\"Answer : \", None)\n",
    "    scores = {}\n",
    "    for option, option_term in splited_question_dict.items():\n",
    "        scores[option] = 0\n",
    "        for keyword, keyword_weight in keywords.items():\n",
    "            scores[option] += two_term_interaction_freq(option_term, keyword, keyword_weight)\n",
    "    percentage_scores = {}\n",
    "    for option in splited_question_dict:\n",
    "        percentage_scores[option] = scores[option] / (sum(scores.values()) or 1)\n",
    "    return percentage_scores"
   ]
  },
  {
   "cell_type": "markdown",
   "metadata": {},
   "source": [
    "## Method 3: Human Take Control\n",
    "\n",
    "* If answer percentage of Method 1 & Method 2 are all below `CONFIDENCE` => Shout out to human\n",
    "* Method 1 & Method 2 had different answers => Use Method 2's Answer"
   ]
  },
  {
   "cell_type": "code",
   "execution_count": 7,
   "metadata": {
    "code_folding": [
     1,
     10,
     16,
     22
    ]
   },
   "outputs": [],
   "source": [
    "CONFIDENCE = 0.6\n",
    "def double_check(result):\n",
    "    method_1_ans = max(result[\"1\"], key=result[\"1\"].get)\n",
    "    method_2_ans = max(result[\"2\"], key=result[\"2\"].get)\n",
    "    error = None\n",
    "    if method_1_ans != method_2_ans:\n",
    "        error = Warning(\"Different Answer\")\n",
    "    if max(result[\"1\"][method_1_ans], result[\"2\"][method_2_ans]) < CONFIDENCE:\n",
    "        error = Warning(\"Low Confidence\")\n",
    "    return method_2_ans, error\n",
    "def print_error(error, result):\n",
    "    if not isinstance(error, Warning):\n",
    "        return\n",
    "    logging.warning(\"Question {}: {}\".format(question_num, str(error)))\n",
    "    logging.warning(\"Method 1: {}\".format(result[\"1\"]))\n",
    "    logging.warning(\"Method 2: {}\".format(result[\"2\"]))\n",
    "def print_question(question):\n",
    "    print(question[\"Question\"])\n",
    "    print(\"https://www.google.com/search?q={}\".format(question[\"Question\"]))\n",
    "    print(\"A. {}\".format(question[\"A\"]))\n",
    "    print(\"B. {}\".format(question[\"B\"]))\n",
    "    print(\"C. {}\".format(question[\"C\"]))\n",
    "def validate_final_results(final_results, length):\n",
    "    if len(final_results) != length:\n",
    "        raise AssertionError(\"Wrong Length\")\n",
    "    ok = True\n",
    "    for question_num, ans in enumerate(final_results):\n",
    "        if ans != \"A\" and ans != \"B\" and ans != \"C\":\n",
    "            ok = False\n",
    "            logging.warning(\"Question {}: invalid answer => {}\".format(question_num, ans))\n",
    "    if not ok:\n",
    "        raise AssertionError(\"Invalid Answer\")\n",
    "    print(\"Happy New Year!!!\")\n",
    "    print()\n",
    "    print(json.dumps(final_results))\n",
    "    return True"
   ]
  },
  {
   "cell_type": "markdown",
   "metadata": {},
   "source": [
    "## Integrated Solve Function"
   ]
  },
  {
   "cell_type": "code",
   "execution_count": 8,
   "metadata": {
    "code_folding": [
     0
    ]
   },
   "outputs": [],
   "source": [
    "def run_solve(question):\n",
    "    # Create a working copy\n",
    "    working_copy = question.copy()\n",
    "    result = {}\n",
    "    \n",
    "    # Split Question into list of terms\n",
    "    working_copy[\"Question\"] = list(jieba.cut(working_copy[\"Question\"], cut_all=False))\n",
    "    \n",
    "    # Solve with two different method\n",
    "    result[\"1\"] = solve_method_one(working_copy)\n",
    "    result[\"2\"] = solve_method_two(working_copy)\n",
    "    \n",
    "    # Check Results\n",
    "    answer, error = double_check(result)\n",
    "    \n",
    "    # Return result\n",
    "    return answer, error, result"
   ]
  },
  {
   "cell_type": "markdown",
   "metadata": {},
   "source": [
    "# Game On"
   ]
  },
  {
   "cell_type": "code",
   "execution_count": 33,
   "metadata": {},
   "outputs": [
    {
     "name": "stdout",
     "output_type": "stream",
     "text": [
      "URL: https://www.dropbox.com/s/kq678nfffzta5zg/20_Question.json?dl=1\n"
     ]
    }
   ],
   "source": [
    "question_url = \"https://github.com/UDICatNCHU/QA_Robot_Project/raw/master/questions_example.json\"\n",
    "question_url = input(\"URL: \")\n",
    "QUESTIONS = requests.get(question_url).json()"
   ]
  },
  {
   "cell_type": "code",
   "execution_count": 34,
   "metadata": {
    "scrolled": true
   },
   "outputs": [
    {
     "name": "stderr",
     "output_type": "stream",
     "text": [
      "WARNING:root:Question 4: Low Confidence\n",
      "WARNING:root:Question 5: Low Confidence\n",
      "WARNING:root:Question 7: Low Confidence\n",
      "WARNING:root:Question 8: Low Confidence\n",
      "WARNING:root:Question 9: Low Confidence\n",
      "WARNING:root:Question 11: Low Confidence\n",
      "WARNING:root:Question 14: Low Confidence\n",
      "WARNING:root:Question 17: Low Confidence\n",
      "WARNING:root:Question 23: Different Answer\n",
      "WARNING:root:Question 24: Different Answer\n",
      "WARNING:root:Question 27: Low Confidence\n",
      "WARNING:root:Question 29: Different Answer\n",
      "WARNING:root:Question 30: Low Confidence\n",
      "WARNING:root:Question 34: Different Answer\n",
      "WARNING:root:Question 36: Low Confidence\n",
      "WARNING:root:Question 40: Low Confidence\n",
      "WARNING:root:Question 41: Low Confidence\n",
      "WARNING:root:Question 42: Different Answer\n",
      "WARNING:root:Question 44: Low Confidence\n",
      "WARNING:root:Question 46: Low Confidence\n",
      "WARNING:root:Question 48: Low Confidence\n",
      "WARNING:root:Question 59: Different Answer\n",
      "WARNING:root:Question 66: Low Confidence\n",
      "WARNING:root:Question 72: Low Confidence\n",
      "WARNING:root:Question 78: Low Confidence\n",
      "WARNING:root:Question 79: Different Answer\n",
      "WARNING:root:Question 81: Low Confidence\n",
      "WARNING:root:Question 86: Low Confidence\n",
      "WARNING:root:Question 88: Low Confidence\n",
      "WARNING:root:Question 95: Low Confidence\n",
      "WARNING:root:Question 96: Low Confidence\n",
      "WARNING:root:Question 97: Different Answer\n"
     ]
    }
   ],
   "source": [
    "RESULTS = [{} for _ in range(len(QUESTIONS))]\n",
    "ERRORS = {}\n",
    "FINAL = []\n",
    "for question_num, question in enumerate(QUESTIONS):\n",
    "    answer, error, result = run_solve(question)\n",
    "    if error:\n",
    "        ERRORS[question_num] = error\n",
    "        logging.warning(\"Question {}: {}\".format(question_num, str(error)))\n",
    "    FINAL.append(answer)\n",
    "    RESULTS[question_num] = result"
   ]
  },
  {
   "cell_type": "code",
   "execution_count": null,
   "metadata": {},
   "outputs": [],
   "source": []
  },
  {
   "cell_type": "code",
   "execution_count": null,
   "metadata": {},
   "outputs": [],
   "source": [
    "len(ERRORS)"
   ]
  },
  {
   "cell_type": "markdown",
   "metadata": {},
   "source": [
    "## Manual Fix"
   ]
  },
  {
   "cell_type": "code",
   "execution_count": 40,
   "metadata": {
    "scrolled": false
   },
   "outputs": [
    {
     "name": "stdout",
     "output_type": "stream",
     "text": [
      "Fix Question: 44\n"
     ]
    },
    {
     "name": "stderr",
     "output_type": "stream",
     "text": [
      "WARNING:root:Question 44: Low Confidence\n",
      "WARNING:root:Method 1: {'A': 0.3625261574679571, 'B': 0.10224300287732148, 'C': 0.5352308396547214}\n",
      "WARNING:root:Method 2: {'A': 0.5094454820479996, 'B': 0.06615475502244281, 'C': 0.42439976292955756}\n"
     ]
    },
    {
     "name": "stdout",
     "output_type": "stream",
     "text": [
      "下列何者是全球人口最多的國家？\n",
      "https://www.google.com/search?q=下列何者是全球人口最多的國家？\n",
      "A. 美國\n",
      "B. 印度\n",
      "C. 中國\n",
      "\n",
      "Original Answer: A\n",
      "\n",
      "Result of Method 2:\n",
      "A 0.5094454820479996\n",
      "B 0.06615475502244281\n",
      "C 0.42439976292955756\n",
      "Answer of 44: C\n"
     ]
    }
   ],
   "source": [
    "question_num = int(input(\"Fix Question: \"))\n",
    "if question_num in ERRORS:\n",
    "    print_error(ERRORS[question_num], RESULTS[question_num])\n",
    "print_question(QUESTIONS[question_num])\n",
    "print()\n",
    "print(\"Original Answer: {}\".format(FINAL[question_num]))\n",
    "print()\n",
    "print(\"Result of Method 2:\")\n",
    "for option, option_dist in RESULTS[question_num][\"2\"].items():\n",
    "    print(option, option_dist)\n",
    "FINAL[question_num] = input(\"Answer of {}: \".format(question_num))"
   ]
  },
  {
   "cell_type": "code",
   "execution_count": null,
   "metadata": {},
   "outputs": [],
   "source": []
  },
  {
   "cell_type": "code",
   "execution_count": 43,
   "metadata": {},
   "outputs": [
    {
     "data": {
      "text/plain": [
       "{'Question': '什麼事件是指日本嘉永六年（1853年）美國海軍准將馬修·培理率艦隊駛入江戶灣浦賀海面的事件，培理帶著美國總統米勒德·菲爾莫爾的國書向江戶幕府致意，最後雙方於次年（1854年）簽定《神奈川條約》（《日美和親條約》）。',\n",
       " 'A': '竹橋事件',\n",
       " 'B': '黑船來航',\n",
       " 'C': '巨文島事件'}"
      ]
     },
     "execution_count": 43,
     "metadata": {},
     "output_type": "execute_result"
    }
   ],
   "source": [
    "QUESTIONS[0]"
   ]
  },
  {
   "cell_type": "code",
   "execution_count": null,
   "metadata": {},
   "outputs": [],
   "source": []
  },
  {
   "cell_type": "code",
   "execution_count": null,
   "metadata": {},
   "outputs": [],
   "source": []
  },
  {
   "cell_type": "code",
   "execution_count": null,
   "metadata": {},
   "outputs": [],
   "source": []
  },
  {
   "cell_type": "code",
   "execution_count": null,
   "metadata": {},
   "outputs": [],
   "source": []
  },
  {
   "cell_type": "code",
   "execution_count": 42,
   "metadata": {
    "scrolled": true
   },
   "outputs": [
    {
     "name": "stdout",
     "output_type": "stream",
     "text": [
      "什麼事件是指日本嘉永六年（1853年）美國海軍准將馬修·培理率艦隊駛入江戶灣浦賀海面的事件，培理帶著美國總統米勒德·菲爾莫爾的國書向江戶幕府致意，最後雙方於次年（1854年）簽定《神奈川條約》（《日美和親條約》）。\n",
      "https://www.google.com/search?q=什麼事件是指日本嘉永六年（1853年）美國海軍准將馬修·培理率艦隊駛入江戶灣浦賀海面的事件，培理帶著美國總統米勒德·菲爾莫爾的國書向江戶幕府致意，最後雙方於次年（1854年）簽定《神奈川條約》（《日美和親條約》）。\n",
      "A. 竹橋事件\n",
      "B. 黑船來航\n",
      "C. 巨文島事件\n",
      "《Fate/stay night》是由哪家公司於2004年1月30日發售的PC平台十八禁文字冒險遊戲? 也是該家公司商業化後初次亮相的作品。\n",
      "https://www.google.com/search?q=《Fate/stay night》是由哪家公司於2004年1月30日發售的PC平台十八禁文字冒險遊戲? 也是該家公司商業化後初次亮相的作品。\n",
      "A. 任天堂\n",
      "B. 奈須蘑菇\n",
      "C. TYPE-MOON\n",
      "任天堂的王牌遊戲設計師是? 曾任任天堂的情報開發本部（Entertainment Analysis and Development）總監兼總經理，在岩田聰於2015年7月11日逝世後與竹田玄洋一同代理任天堂高層事務，被稱為「瑪利歐之父」，主導開發了瑪利歐系列（Mario）、大金剛系列（Donkey Kong）、薩爾達傳說系列（The Legend of Zelda）、銀河戰士系列（Metroid）等一系列任天堂本家鐵板經典遊戲。\n",
      "https://www.google.com/search?q=任天堂的王牌遊戲設計師是? 曾任任天堂的情報開發本部（Entertainment Analysis and Development）總監兼總經理，在岩田聰於2015年7月11日逝世後與竹田玄洋一同代理任天堂高層事務，被稱為「瑪利歐之父」，主導開發了瑪利歐系列（Mario）、大金剛系列（Donkey Kong）、薩爾達傳說系列（The Legend of Zelda）、銀河戰士系列（Metroid）等一系列任天堂本家鐵板經典遊戲。\n",
      "A. 宮本茂\n",
      "B. 岩田聰\n",
      "C. 三上真司\n",
      "四季為春天，夏天，冬天。還有一個是?\n",
      "https://www.google.com/search?q=四季為春天，夏天，冬天。還有一個是?\n",
      "A. 秋天\n",
      "B. 陰天\n",
      "C. 雨天\n",
      "什麼是地球唯一的天然衛星，並且是太陽系中第五大的衛星?\n",
      "https://www.google.com/search?q=什麼是地球唯一的天然衛星，並且是太陽系中第五大的衛星?\n",
      "A. 月球\n",
      "B. 木星\n",
      "C. 土星\n",
      "紐約洋基(New York Yankees)，是一支位於紐約布朗克斯區的職業棒球隊。隸屬於美國職棒大聯盟美國聯盟的哪一區?\n",
      "https://www.google.com/search?q=紐約洋基(New York Yankees)，是一支位於紐約布朗克斯區的職業棒球隊。隸屬於美國職棒大聯盟美國聯盟的哪一區?\n",
      "A. 東區\n",
      "B. 中區\n",
      "C. 西區\n",
      "哪一位皇帝是中國歷史上在位時間最長的皇帝?\n",
      "https://www.google.com/search?q=哪一位皇帝是中國歷史上在位時間最長的皇帝?\n",
      "A. 乾隆\n",
      "B. 明太祖朱元璋\n",
      "C. 康熙帝\n",
      "下列哪個是元素週期表中最輕的元素?\n",
      "https://www.google.com/search?q=下列哪個是元素週期表中最輕的元素?\n",
      "A. 碳\n",
      "B. 氦\n",
      "C. 氫\n",
      " 什麼宗教是當今世上信仰人口最多的宗教?\n",
      "https://www.google.com/search?q= 什麼宗教是當今世上信仰人口最多的宗教?\n",
      "A. 伊斯蘭教\n",
      "B. 基督教\n",
      "C. 道教\n",
      "哪位日本有名的電子遊戲的製作人、遊戲設計師和遊戲監督? 在山口縣岩國市出生，代表的電視遊戲作品是 ps 1的惡靈古堡，被外界稱為「惡靈古堡之父」和「恐怖遊戲之父」。\n",
      "https://www.google.com/search?q=哪位日本有名的電子遊戲的製作人、遊戲設計師和遊戲監督? 在山口縣岩國市出生，代表的電視遊戲作品是 ps 1的惡靈古堡，被外界稱為「惡靈古堡之父」和「恐怖遊戲之父」。\n",
      "A. 神谷英樹\n",
      "B. 小林裕幸\n",
      "C. 三上真司\n",
      "什麼戰爭（德國方面稱為東方戰線，德語：die Ostfront；蘇聯方面稱為偉大的衛國戰爭，俄語：Великая Отечественная Война，而「衛國戰爭」本指1812年的俄法戰爭）是第二次世界大戰期間蘇聯與納粹德國及雙方盟國之間發生的戰爭? 時間從1941年6月22日德國開始進攻蘇聯、至1945年5月9日德國向蘇聯投降為止。\n",
      "https://www.google.com/search?q=什麼戰爭（德國方面稱為東方戰線，德語：die Ostfront；蘇聯方面稱為偉大的衛國戰爭，俄語：Великая Отечественная Война，而「衛國戰爭」本指1812年的俄法戰爭）是第二次世界大戰期間蘇聯與納粹德國及雙方盟國之間發生的戰爭? 時間從1941年6月22日德國開始進攻蘇聯、至1945年5月9日德國向蘇聯投降為止。\n",
      "A. 地中海戰役\n",
      "B. 蘇德戰爭\n",
      "C. 冬季戰爭\n",
      "下列哪一個是這個世界上唯一猶太國家?\n",
      "https://www.google.com/search?q=下列哪一個是這個世界上唯一猶太國家?\n",
      "A. 黎巴嫩\n",
      "B. 以色列\n",
      "C. 敘利亞\n",
      "哪部是福井晴敏撰寫的鋼彈小說系列作品，於雜誌《鋼彈 ACE》2007年2月號至2009年8月號上連載。2009年4月25日，官方宣布本作品動畫化，改編動畫以全7話OVA形式於2010年2月20日至2014年5月17日在世界多國同步播放，並推出多語言BD&DVD。\n",
      "https://www.google.com/search?q=哪部是福井晴敏撰寫的鋼彈小說系列作品，於雜誌《鋼彈 ACE》2007年2月號至2009年8月號上連載。2009年4月25日，官方宣布本作品動畫化，改編動畫以全7話OVA形式於2010年2月20日至2014年5月17日在世界多國同步播放，並推出多語言BD&DVD。\n",
      "A. 緋彈的亞莉亞\n",
      "B. 機動戰士鋼彈UC\n",
      "C. 機動戰士鋼彈 閃光的哈薩威\n",
      "哪位政治人物為中華民國（臺灣）政治人物，現任新北市長。嘉義縣朴子市人，曾任內政部警政署署長、中央警察大學校長、新北市副市長，也是中華民國史上任職內政部警政署署長時最年輕者。於2018年新北市長選舉中，以29萬票差距贏過民進黨提名的蘇貞昌，當選第3任新北市長\n",
      "https://www.google.com/search?q=哪位政治人物為中華民國（臺灣）政治人物，現任新北市長。嘉義縣朴子市人，曾任內政部警政署署長、中央警察大學校長、新北市副市長，也是中華民國史上任職內政部警政署署長時最年輕者。於2018年新北市長選舉中，以29萬票差距贏過民進黨提名的蘇貞昌，當選第3任新北市長\n",
      "A. 衝衝衝\n",
      "B. 侯友宜\n",
      "C. 蘇貞昌\n",
      "哪者是源自日本的跨國汽車公司，總部位於日本愛知縣豐田市，現時爲世界銷量排名第一的汽車製造商，利潤也名列前茅；名列美國《財富》雜誌2017年全球五百大企業排行榜的第5位。截至2012年，共售973萬輛車，2013年度共售1013.3萬輛汽車，2014年共售1023萬輛汽車，是第一個達到年產量千萬台以上的車廠。亦是凌志、大發及日野品牌的母公司。\n",
      "https://www.google.com/search?q=哪者是源自日本的跨國汽車公司，總部位於日本愛知縣豐田市，現時爲世界銷量排名第一的汽車製造商，利潤也名列前茅；名列美國《財富》雜誌2017年全球五百大企業排行榜的第5位。截至2012年，共售973萬輛車，2013年度共售1013.3萬輛汽車，2014年共售1023萬輛汽車，是第一個達到年產量千萬台以上的車廠。亦是凌志、大發及日野品牌的母公司。\n",
      "A. 豐田汽車\n",
      "B. 本田技研工業\n",
      "C. 日產汽車\n",
      "哪者是一種從1990年代開始逐漸引起廣泛關注的一些新型軟體開發方法，是一種應對快速變化的需求的一種軟體開發能力。它們的具體名稱、理念、過程、術語都不盡相同，更強調程式設計師團隊與業務專家之間的緊密共同作業、面對面的溝通（認為比書面的文件更有效）、頻繁交付新的軟體版本、緊湊而自我組織型的團隊、能夠很好地適應需求變化的程式碼編寫和團隊組織方法，也更注重軟體開發過程中人的作用。\n",
      "https://www.google.com/search?q=哪者是一種從1990年代開始逐漸引起廣泛關注的一些新型軟體開發方法，是一種應對快速變化的需求的一種軟體開發能力。它們的具體名稱、理念、過程、術語都不盡相同，更強調程式設計師團隊與業務專家之間的緊密共同作業、面對面的溝通（認為比書面的文件更有效）、頻繁交付新的軟體版本、緊湊而自我組織型的團隊、能夠很好地適應需求變化的程式碼編寫和團隊組織方法，也更注重軟體開發過程中人的作用。\n",
      "A. 快速應用程式開發\n",
      "B. 疊代式開發\n",
      "C. 敏捷軟體開發\n",
      "下列何者稱呼也是代表孔子?\n",
      "https://www.google.com/search?q=下列何者稱呼也是代表孔子?\n",
      "A. 仲尼\n",
      "B. 孟子\n",
      "C. 孔鯉\n",
      "什麼是目前世界上最高水準的職業棒球賽事?\n",
      "https://www.google.com/search?q=什麼是目前世界上最高水準的職業棒球賽事?\n",
      "A. 美國職業棒球大聯盟\n",
      "B. 日本棒球機構\n",
      "C. 中華職業棒球大聯盟\n",
      "下列何者是蘇格蘭國家代表動物?\n",
      "https://www.google.com/search?q=下列何者是蘇格蘭國家代表動物?\n",
      "A. 獨角獸\n",
      "B. 尼斯湖水怪\n",
      "C. 蘇格蘭裙\n",
      "哪者是一種電腦程式，它會將用某種程式語言寫成的原始碼（原始語言），轉換成另一種程式語言（目標語言），它主要的目的是將便於人編寫、閱讀、維護的進階電腦語言所寫作的原始碼程式，翻譯為電腦能解讀、執行的低階機器語言的程式，也就是執行檔。將原始程式（source program）作為輸入，翻譯產生使用目標語言（target language）的等價程式。原始碼一般為高階語言（High-level language），如Pascal、C、C++、C# 、Java等，而目標語言則是組合語言或目標機器的目的碼（Object code），有時也稱作機器碼（Machine code）。\n",
      "https://www.google.com/search?q=哪者是一種電腦程式，它會將用某種程式語言寫成的原始碼（原始語言），轉換成另一種程式語言（目標語言），它主要的目的是將便於人編寫、閱讀、維護的進階電腦語言所寫作的原始碼程式，翻譯為電腦能解讀、執行的低階機器語言的程式，也就是執行檔。將原始程式（source program）作為輸入，翻譯產生使用目標語言（target language）的等價程式。原始碼一般為高階語言（High-level language），如Pascal、C、C++、C# 、Java等，而目標語言則是組合語言或目標機器的目的碼（Object code），有時也稱作機器碼（Machine code）。\n",
      "A. 編譯器\n",
      "B. 直譯器\n",
      "C. 連結器\n",
      "哪款是卡普空於2001年8月23日發行的一款動作遊戲? 遊戲中充滿了黑暗的哥德式背景，混合了重金屬音樂、工業音樂和音調優美的氛圍電子樂做成鮮明對比。主角但丁喜歡嘲諷敵人，有著一半惡魔和一半人類血統的惡魔獵人，其父名為斯巴達，為魔界貴族。\n",
      "https://www.google.com/search?q=哪款是卡普空於2001年8月23日發行的一款動作遊戲? 遊戲中充滿了黑暗的哥德式背景，混合了重金屬音樂、工業音樂和音調優美的氛圍電子樂做成鮮明對比。主角但丁喜歡嘲諷敵人，有著一半惡魔和一半人類血統的惡魔獵人，其父名為斯巴達，為魔界貴族。\n",
      "A. 戰國BASARA\n",
      "B. 惡魔獵人\n",
      "C. 惡靈古堡2\n",
      "下列何者是梵谷的作品之一?\n",
      "https://www.google.com/search?q=下列何者是梵谷的作品之一?\n",
      "A. 印象派畫家\n",
      "B. 向日葵\n",
      "C. 地板\n",
      "是一次自1939年至1945年所爆發的全球軍事衝突，整場戰爭涉及到全球絕大多數的國家，包括所有的大國，並最終分成兩個彼此對立的軍事同盟─同盟國和軸心國。這次戰爭是人類史上最大的戰爭，動員1億多名軍人參與這次軍事衝突。此為?。\n",
      "https://www.google.com/search?q=是一次自1939年至1945年所爆發的全球軍事衝突，整場戰爭涉及到全球絕大多數的國家，包括所有的大國，並最終分成兩個彼此對立的軍事同盟─同盟國和軸心國。這次戰爭是人類史上最大的戰爭，動員1億多名軍人參與這次軍事衝突。此為?。\n",
      "A. 第一次世界大戰\n",
      "B. 第二次世界大戰\n",
      "C. 伊拉克戰爭\n",
      "是日本漫畫家尾田榮一郎所創作的少年漫畫《ONE PIECE》中的虛構角色，主角魯夫的第一位夥伴，草帽海賊團的戰鬥員。立志成為世界最強的劍士，以三刀流戰鬥風格聞名，團員中第二號人物。\n",
      "https://www.google.com/search?q=是日本漫畫家尾田榮一郎所創作的少年漫畫《ONE PIECE》中的虛構角色，主角魯夫的第一位夥伴，草帽海賊團的戰鬥員。立志成為世界最強的劍士，以三刀流戰鬥風格聞名，團員中第二號人物。\n",
      "A. 漩渦鳴人\n",
      "B. 騙人布\n",
      "C. 羅羅亞·索隆\n",
      "下列何種不是俠盜獵車手V的三個主要角色之一?\n",
      "https://www.google.com/search?q=下列何種不是俠盜獵車手V的三個主要角色之一?\n",
      "A. 麥可·迪聖塔\n",
      "B. 崔佛·菲利普\n",
      "C. 馬丁·瑪德拉索\n",
      "是臺灣職業棒球運動員，位置為投手。曾效力於美國職棒大聯盟，是台灣投手在美國職棒中累計勝投最高者。請問他是?\n",
      "https://www.google.com/search?q=是臺灣職業棒球運動員，位置為投手。曾效力於美國職棒大聯盟，是台灣投手在美國職棒中累計勝投最高者。請問他是?\n",
      "A. 王建民\n",
      "B. 郭泓志\n",
      "C. 陳金鋒\n",
      "下列何者含有大量維他命C，維生素B6，能提高蛋白質的代謝能力，促進身體的組織和皮膚再生，並且有助於女性荷爾蒙分泌正常？\n",
      "https://www.google.com/search?q=下列何者含有大量維他命C，維生素B6，能提高蛋白質的代謝能力，促進身體的組織和皮膚再生，並且有助於女性荷爾蒙分泌正常？\n",
      "A. 樹皮\n",
      "B. 奇異果\n",
      "C. 木瓜\n",
      "哪部是日本作家支倉凍砂所著的輕小說、由文倉十負責繪製插畫，於電擊文庫出版，小說於2016年2月8日公布連載續編的訊息。漫畫版由小梅京人執筆，於「電擊魔王」2007年11月號開始連載，於「電擊魔王」2018年2月號結束連載,單行本共16本。同名改編電視動畫於2008年1月8日至3月25日和2009年7月8日至9月23日分別播出第一季和第二季。\n",
      "https://www.google.com/search?q=哪部是日本作家支倉凍砂所著的輕小說、由文倉十負責繪製插畫，於電擊文庫出版，小說於2016年2月8日公布連載續編的訊息。漫畫版由小梅京人執筆，於「電擊魔王」2007年11月號開始連載，於「電擊魔王」2018年2月號結束連載,單行本共16本。同名改編電視動畫於2008年1月8日至3月25日和2009年7月8日至9月23日分別播出第一季和第二季。\n",
      "A. 夢沉抹大拉\n",
      "B. 我的妹妹哪有這麼可愛！\n",
      "C. 狼與辛香料\n",
      "什麼協定（英語：Munich Agreement；捷克語：Mnichovská zrada；德語：Münchner Abkommen；1938年9月29日─9月30日）是英國、法國、德國、義大利四國首腦──張伯倫（首相）、達拉第（總理）、希特勒捷克斯洛伐克代表、墨索里尼在德國的慕尼黑召開的會議? 英法為避免戰爭爆發，簽署慕尼黑協定而犧牲捷克斯洛伐克的蘇台德地區，出賣了未在場的捷克斯洛伐克利益，是一項綏靖政策。\n",
      "https://www.google.com/search?q=什麼協定（英語：Munich Agreement；捷克語：Mnichovská zrada；德語：Münchner Abkommen；1938年9月29日─9月30日）是英國、法國、德國、義大利四國首腦──張伯倫（首相）、達拉第（總理）、希特勒捷克斯洛伐克代表、墨索里尼在德國的慕尼黑召開的會議? 英法為避免戰爭爆發，簽署慕尼黑協定而犧牲捷克斯洛伐克的蘇台德地區，出賣了未在場的捷克斯洛伐克利益，是一項綏靖政策。\n",
      "A. 德蘇互不侵犯條約\n",
      "B. 慕尼黑協定\n",
      "C. 英德海軍協定\n",
      "哪者是一種技術，是無中心伺服器、依靠用戶群（peers）交換資訊的網際網路體系，它的作用在於，減低以往網路傳輸中的節點，以降低資料遺失的風險。與有中心伺服器的中央網路系統不同，對等網路的每個用戶端既是一個節點，也有伺服器的功能，任何一個節點無法直接找到其他節點，必須依靠其戶群進行資訊交流\n",
      "https://www.google.com/search?q=哪者是一種技術，是無中心伺服器、依靠用戶群（peers）交換資訊的網際網路體系，它的作用在於，減低以往網路傳輸中的節點，以降低資料遺失的風險。與有中心伺服器的中央網路系統不同，對等網路的每個用戶端既是一個節點，也有伺服器的功能，任何一個節點無法直接找到其他節點，必須依靠其戶群進行資訊交流\n",
      "A. 對等網路\n",
      "B. 主從式架構\n",
      "C. 瀏覽器-伺服器\n",
      "是地球表層或表層下的振動所造成的地面震動，屬於一種自然現象。亦可由地殼運動、火山活動及隕石撞擊引起，或是人為活動如地下核試驗造成。\n",
      "https://www.google.com/search?q=是地球表層或表層下的振動所造成的地面震動，屬於一種自然現象。亦可由地殼運動、火山活動及隕石撞擊引起，或是人為活動如地下核試驗造成。\n",
      "A. 颱風\n",
      "B. 地震\n",
      "C. 海嘯\n",
      "是美國第一個國家公園。主要位於懷俄明州，部分位於蒙大拿州和愛達荷州，是世界上第一個國家公園。以其豐富的野生動物種類和地熱資源聞名，老忠實間歇泉更是其中最富盛名的景點之一。公園中有著多種類型的生態系統，其中以亞高山帶森林為主。此為：\n",
      "https://www.google.com/search?q=是美國第一個國家公園。主要位於懷俄明州，部分位於蒙大拿州和愛達荷州，是世界上第一個國家公園。以其豐富的野生動物種類和地熱資源聞名，老忠實間歇泉更是其中最富盛名的景點之一。公園中有著多種類型的生態系統，其中以亞高山帶森林為主。此為：\n",
      "A. 拱門國家公園\n",
      "B. 黃石國家公園\n",
      "C. 甘尼遜黑峽谷國家公園\n",
      "哪者是一門基於原型、函式先行的語言，是一門多範式的語言，它支援物件導向編程，指令式程式設計，以及函數語言程式設計。它提供語法來操控文字、陣列、日期以及正規表示式等，不支援I/O，比如網路、儲存和圖形等，但這些都可以由它的宿主環境提供支援。它已經由ECMA（歐洲電腦製造商協會）透過ECMAScript實作語言的標準化。它被世界上的絕大多數網站所使用\n",
      "https://www.google.com/search?q=哪者是一門基於原型、函式先行的語言，是一門多範式的語言，它支援物件導向編程，指令式程式設計，以及函數語言程式設計。它提供語法來操控文字、陣列、日期以及正規表示式等，不支援I/O，比如網路、儲存和圖形等，但這些都可以由它的宿主環境提供支援。它已經由ECMA（歐洲電腦製造商協會）透過ECMAScript實作語言的標準化。它被世界上的絕大多數網站所使用\n",
      "A. JavaScript\n",
      "B. Java\n",
      "C. HTML5\n",
      "位於臺灣中南部，屬於中央管河川，是臺南市與嘉義縣的縣界溪及嘉義縣與嘉義市的縣市界溪?\n",
      "https://www.google.com/search?q=位於臺灣中南部，屬於中央管河川，是臺南市與嘉義縣的縣界溪及嘉義縣與嘉義市的縣市界溪?\n",
      "A. 八掌溪\n",
      "B. 北港溪\n",
      "C. 蘇澳溪\n",
      "是不列顛傳說中的國王，也是凱爾特英雄譜中最受歡迎的圓桌騎士團（或譯圓桌武士）的騎士首領，一位近乎神話般的傳奇人物。\n",
      "https://www.google.com/search?q=是不列顛傳說中的國王，也是凱爾特英雄譜中最受歡迎的圓桌騎士團（或譯圓桌武士）的騎士首領，一位近乎神話般的傳奇人物。\n",
      "A. 亞歷山大大帝\n",
      "B. 亞瑟王\n",
      "C. 蘭斯洛特\n",
      "中國四大名著，即四大小說名著，是指三國演義、西遊記、紅樓夢還有哪一部作品?\n",
      "https://www.google.com/search?q=中國四大名著，即四大小說名著，是指三國演義、西遊記、紅樓夢還有哪一部作品?\n",
      "A. 水滸傳\n",
      "B. 史記\n",
      "C. 聖經\n",
      "下列何者為是中華民國的最高行政機關?\n",
      "https://www.google.com/search?q=下列何者為是中華民國的最高行政機關?\n",
      "A. 立法院\n",
      "B. 行政院\n",
      "C. 考試院\n",
      "是由質量足夠大的恆星在核融合反應的燃料耗盡後，發生重力塌縮而形成。質量是如此之大，它產生的重力場是如此之強，以致於大量可測物質和輻射都無法逃逸，就連傳播速度極快的光子也逃逸不出來。\n",
      "https://www.google.com/search?q=是由質量足夠大的恆星在核融合反應的燃料耗盡後，發生重力塌縮而形成。質量是如此之大，它產生的重力場是如此之強，以致於大量可測物質和輻射都無法逃逸，就連傳播速度極快的光子也逃逸不出來。\n",
      "A. 銀河\n",
      "B. 宇宙\n",
      "C. 黑洞\n",
      "哪者是一種特定目的程式語言，用於管理關聯式資料庫管理系統（RDBMS），或在關係流資料管理系統（RDSMS）中進行流處理。基於關係代數和元組關係演算，包括一個資料定義語言和資料操縱語言。範圍包括資料插入、查詢、更新和刪除，資料庫模式建立和修改，以及資料存取控制。儘管經常被描述為，而且很大程度上是一種聲明式編程（4GL），但是其也含有程序式編程的元素。\n",
      "https://www.google.com/search?q=哪者是一種特定目的程式語言，用於管理關聯式資料庫管理系統（RDBMS），或在關係流資料管理系統（RDSMS）中進行流處理。基於關係代數和元組關係演算，包括一個資料定義語言和資料操縱語言。範圍包括資料插入、查詢、更新和刪除，資料庫模式建立和修改，以及資料存取控制。儘管經常被描述為，而且很大程度上是一種聲明式編程（4GL），但是其也含有程序式編程的元素。\n",
      "A. NoSQL\n",
      "B. 資料查詢語言\n",
      "C. SQL\n",
      "哪位中華民國政治人物，曾任中華民國第12、13任總統、國民黨主席等職。生於英屬香港九龍油麻地，籍貫湖南省衡山縣，馬鶴凌和秦厚修的兒子，1952年隨雙親定居台灣台北市\n",
      "https://www.google.com/search?q=哪位中華民國政治人物，曾任中華民國第12、13任總統、國民黨主席等職。生於英屬香港九龍油麻地，籍貫湖南省衡山縣，馬鶴凌和秦厚修的兒子，1952年隨雙親定居台灣台北市\n",
      "A. 馬英九\n",
      "B. 馬友友\n",
      "C. 李登輝\n",
      "哪種軟體是又稱非自由軟體、專屬軟體、私有軟體、封閉性軟體等，是指在使用、修改上有限制的軟體。此外，有些軟體也有複製和分發的限制，它也屬於專有軟體的範疇。通常，與專有軟體對應的是自由軟體。這些限制是由軟體的所有者制定的。這些限制是通過法律或者技術上的手段實現的，有時這兩種手段被同時採用。最常見的技術限制方式是保留能夠被大家讀懂的原始碼，而只發布只有電腦才能讀懂的程式（如二進位格式）。法律上的限制包括使用版權（附帶軟體許可證）和專利。這些程式的原始碼往往被其持有者視為商業機密。如果第三方要檢視原始碼時，往往需要簽署保密協定。\n",
      "https://www.google.com/search?q=哪種軟體是又稱非自由軟體、專屬軟體、私有軟體、封閉性軟體等，是指在使用、修改上有限制的軟體。此外，有些軟體也有複製和分發的限制，它也屬於專有軟體的範疇。通常，與專有軟體對應的是自由軟體。這些限制是由軟體的所有者制定的。這些限制是通過法律或者技術上的手段實現的，有時這兩種手段被同時採用。最常見的技術限制方式是保留能夠被大家讀懂的原始碼，而只發布只有電腦才能讀懂的程式（如二進位格式）。法律上的限制包括使用版權（附帶軟體許可證）和專利。這些程式的原始碼往往被其持有者視為商業機密。如果第三方要檢視原始碼時，往往需要簽署保密協定。\n",
      "A. 商業軟體\n",
      "B. 專有軟體\n",
      "C. 自由軟體\n",
      "是由美國作家喬治·R·R·馬丁所著的史詩奇幻小說系列。不同於古典奇幻作品中常有的善惡分明、充滿魔法、並有許多非人種族參與故事的情節，而是以較寫實的方法去呈現故事中的世界。2011年本作被HBO改編成電視系列劇《權力遊戲》。此小說是?\n",
      "https://www.google.com/search?q=是由美國作家喬治·R·R·馬丁所著的史詩奇幻小說系列。不同於古典奇幻作品中常有的善惡分明、充滿魔法、並有許多非人種族參與故事的情節，而是以較寫實的方法去呈現故事中的世界。2011年本作被HBO改編成電視系列劇《權力遊戲》。此小說是?\n",
      "A. 冰與火之歌\n",
      "B. 噩盡島\n",
      "C. 陰屍路\n",
      "哪一位物理學家被譽為「原子彈之父」，其領導的曼哈頓計劃研發出用於轟炸廣島與長崎的原子彈？\n",
      "https://www.google.com/search?q=哪一位物理學家被譽為「原子彈之父」，其領導的曼哈頓計劃研發出用於轟炸廣島與長崎的原子彈？\n",
      "A. 亨利·劉易斯·史汀生\n",
      "B. 羅伯特·歐本海默\n",
      "C. 阿瑟·康普頓\n",
      "Windows 10是一個由哪家公司開發的作業系統?\n",
      "https://www.google.com/search?q=Windows 10是一個由哪家公司開發的作業系統?\n",
      "A. 微軟\n",
      "B. 英特爾\n",
      "C. 蘋果公司\n",
      "下列何者是全球人口最多的國家？\n",
      "https://www.google.com/search?q=下列何者是全球人口最多的國家？\n",
      "A. 美國\n",
      "B. 印度\n",
      "C. 中國\n",
      "哪部小說是2006年12月29日由TYPE-MOON公司發行的傳奇小說（輕小說），作者為Nitro+所屬的虛淵玄，人物設計與插畫為TYPE-MOON所屬的武內崇。\n",
      "https://www.google.com/search?q=哪部小說是2006年12月29日由TYPE-MOON公司發行的傳奇小說（輕小說），作者為Nitro+所屬的虛淵玄，人物設計與插畫為TYPE-MOON所屬的武內崇。\n",
      "A. Fate/Zero\n",
      "B. 月姬\n",
      "C. 空之境界\n",
      "哪間天主教醫院是臺灣臺東縣歷史上第一間專門的婦產科醫院，截至2003年轉型前更接生過超過十萬名新生兒？\n",
      "https://www.google.com/search?q=哪間天主教醫院是臺灣臺東縣歷史上第一間專門的婦產科醫院，截至2003年轉型前更接生過超過十萬名新生兒？\n",
      "A. 台東基督教醫院\n",
      "B. 衛生福利部臺東醫院\n",
      "C. 台東聖母醫院\n",
      "哪位政治人物為中國國民黨籍政治人物，生於基隆，畢業於國立政治大學地政系、私立淡江大學國際事務與戰略研究所。為現任臺中市市長、連任六屆立法委員\n",
      "https://www.google.com/search?q=哪位政治人物為中國國民黨籍政治人物，生於基隆，畢業於國立政治大學地政系、私立淡江大學國際事務與戰略研究所。為現任臺中市市長、連任六屆立法委員\n",
      "A. 草包蝸牛屬\n",
      "B. 谷關空氣瓶\n",
      "C. 盧秀燕\n",
      "是11世紀至16世紀時位於南美洲的古老帝國，亦是前哥倫布時期美洲最大的帝國，在政治、軍事和文化中心位於今日秘魯的庫斯科。區域分布在南美洲的安地斯山脈上。此為?\n",
      "https://www.google.com/search?q=是11世紀至16世紀時位於南美洲的古老帝國，亦是前哥倫布時期美洲最大的帝國，在政治、軍事和文化中心位於今日秘魯的庫斯科。區域分布在南美洲的安地斯山脈上。此為?\n",
      "A. 瑪雅\n",
      "B. 印加\n",
      "C. 阿茲特克\n",
      "哪台為任天堂公司在1989年發售的第一代可攜式掌上遊戲機。 擁有三個改版機型，分別是小尺寸的Game Boy Pocket，加入背光功能的Game Boy Light，以及彩色的Game Boy Color。截止2003年3月23日停產後，全系列機種合計在全球累計銷量為1億1869萬台，為目前世界上累計銷量第2位的掌上型遊戲機（第一位是任天堂DS）。任天堂的下一代掌機為2001年推出的任天堂Game Boy Advance。\n",
      "https://www.google.com/search?q=哪台為任天堂公司在1989年發售的第一代可攜式掌上遊戲機。 擁有三個改版機型，分別是小尺寸的Game Boy Pocket，加入背光功能的Game Boy Light，以及彩色的Game Boy Color。截止2003年3月23日停產後，全系列機種合計在全球累計銷量為1億1869萬台，為目前世界上累計銷量第2位的掌上型遊戲機（第一位是任天堂DS）。任天堂的下一代掌機為2001年推出的任天堂Game Boy Advance。\n",
      "A. PSP\n",
      "B. Game Boy\n",
      "C. Game Boy Advance\n",
      "哪者為泛指一系列基於Intel 8086且向下相容的中央處理器指令集架構。最早的8086處理器於1978年由Intel推出，為16位元微處理器。Intel在早期以80x86這樣的數字格式來命名處理器，包括Intel 8086、80186、80286、80386以及80486。由於數字並不能作為註冊商標，因此Intel及其競爭者均在新一代處理器使用可註冊的名稱，如奔騰（Pentium）、酷睿（Core）、銳龍（Ryzen，AMD推出）。\n",
      "https://www.google.com/search?q=哪者為泛指一系列基於Intel 8086且向下相容的中央處理器指令集架構。最早的8086處理器於1978年由Intel推出，為16位元微處理器。Intel在早期以80x86這樣的數字格式來命名處理器，包括Intel 8086、80186、80286、80386以及80486。由於數字並不能作為註冊商標，因此Intel及其競爭者均在新一代處理器使用可註冊的名稱，如奔騰（Pentium）、酷睿（Core）、銳龍（Ryzen，AMD推出）。\n",
      "A. ARM架構\n",
      "B. x86\n",
      "C. PowerPC\n",
      "是暴雪娛樂發行的一款集換式卡片遊戲，該遊戲是一款免費遊戲，故事背景基於魔獸系列的世界觀。此遊戲是?\n",
      "https://www.google.com/search?q=是暴雪娛樂發行的一款集換式卡片遊戲，該遊戲是一款免費遊戲，故事背景基於魔獸系列的世界觀。此遊戲是?\n",
      "A. 魔獸世界\n",
      "B. 星海爭霸系列\n",
      "C. 爐石戰記\n",
      "哪者是微軟所開發的圖形化使用者介面網頁瀏覽器。自從1995年開始，內建在各個新版本的Windows作業系統作為預設的瀏覽器，也是微軟Windows作業系統的一個組成部份\n",
      "https://www.google.com/search?q=哪者是微軟所開發的圖形化使用者介面網頁瀏覽器。自從1995年開始，內建在各個新版本的Windows作業系統作為預設的瀏覽器，也是微軟Windows作業系統的一個組成部份\n",
      "A. Microsoft Edge\n",
      "B. 網景\n",
      "C. Internet Explorer\n",
      "哪位中華民國政治人物名文，幼名帝象，譜名德明，字載之，號逸仙、日新。流亡日本時，曾化名中山樵。生於滿清廣東省廣州府香山縣翠亨村，祖籍廣東省東莞。清末民初醫師、政治家、革命家、哲學家，是中華民國奠基人，亦是中國國民黨之創黨人。提倡三民主義。\n",
      "https://www.google.com/search?q=哪位中華民國政治人物名文，幼名帝象，譜名德明，字載之，號逸仙、日新。流亡日本時，曾化名中山樵。生於滿清廣東省廣州府香山縣翠亨村，祖籍廣東省東莞。清末民初醫師、政治家、革命家、哲學家，是中華民國奠基人，亦是中國國民黨之創黨人。提倡三民主義。\n",
      "A. 馬英九\n",
      "B. 孫中山\n",
      "C. 蘿莉控\n",
      "是國際上最主要的綜合型體育賽事，每4年舉行一次，最早起源於古希臘，因為舉辦地在奧林匹亞而得名。此為?\n",
      "https://www.google.com/search?q=是國際上最主要的綜合型體育賽事，每4年舉行一次，最早起源於古希臘，因為舉辦地在奧林匹亞而得名。此為?\n",
      "A. 奧林匹克運動會\n",
      "B. 國際足協世界盃\n",
      "C. 國家籃球協會\n",
      "是屬於突發性天然災害，是一種固態降水物，在對流雲所形成的積雨雲中形成，當水氣隨氣流上升遇冷會凝結成小水滴，若隨著高度增加溫度繼續降低，達到攝氏零度以下時，水滴就凝結成冰粒。此為?\n",
      "https://www.google.com/search?q=是屬於突發性天然災害，是一種固態降水物，在對流雲所形成的積雨雲中形成，當水氣隨氣流上升遇冷會凝結成小水滴，若隨著高度增加溫度繼續降低，達到攝氏零度以下時，水滴就凝結成冰粒。此為?\n",
      "A. 冰雹\n",
      "B. 颱風\n",
      "C. 冰塊\n",
      "哪者是電腦程式編寫時的一套命名規則（慣例）。當變數名和函式名稱是由二個或多個單字連結在一起，而構成的唯一識別字時，利用此方法來表示，可以增加變數和函式的可讀性。\n",
      "https://www.google.com/search?q=哪者是電腦程式編寫時的一套命名規則（慣例）。當變數名和函式名稱是由二個或多個單字連結在一起，而構成的唯一識別字時，利用此方法來表示，可以增加變數和函式的可讀性。\n",
      "A. 駝峰式大小寫\n",
      "B. 山峰式大小寫\n",
      "C. 匈牙利命名法\n",
      "哪台為日本任天堂公司開發的家用電視遊戲機。於1996年6月23日在日本面世，而北美洲於1996年9月29日、歐洲和澳洲於1997年3月1日、法國於1997年公開發售。最大的創新之處在於首次在手柄上加入了類比搖杆和震動功能。任天堂64上誕生了薩爾達傳說 時之笛和超級瑪利歐64等大作。任天堂64銷量為3293萬台。下一代產品為任天堂GameCube。\n",
      "https://www.google.com/search?q=哪台為日本任天堂公司開發的家用電視遊戲機。於1996年6月23日在日本面世，而北美洲於1996年9月29日、歐洲和澳洲於1997年3月1日、法國於1997年公開發售。最大的創新之處在於首次在手柄上加入了類比搖杆和震動功能。任天堂64上誕生了薩爾達傳說 時之笛和超級瑪利歐64等大作。任天堂64銷量為3293萬台。下一代產品為任天堂GameCube。\n",
      "A. 任天堂64\n",
      "B. 紅白機\n",
      "C. wii\n",
      "哪者是一種軟體交付模式。在這種交付模式中雲端集中式代管軟體及其相關的資料，軟體僅需透過網際網路，而不須透過安裝即可使用。用戶通常使用精簡用戶端經由一個網頁瀏覽器來存取\n",
      "https://www.google.com/search?q=哪者是一種軟體交付模式。在這種交付模式中雲端集中式代管軟體及其相關的資料，軟體僅需透過網際網路，而不須透過安裝即可使用。用戶通常使用精簡用戶端經由一個網頁瀏覽器來存取\n",
      "A. 檔案分享\n",
      "B. 數字發行\n",
      "C. 軟體即服務\n",
      "是由育碧軟體發行的歷史隱蔽類遊戲系列（潛伏遊戲）。主要的單人遊戲由育碧蒙特婁進行開發，並且由育碧安納西進行多人遊戲的開發。該系列產品受到了大部分評論家的好評。\n",
      "https://www.google.com/search?q=是由育碧軟體發行的歷史隱蔽類遊戲系列（潛伏遊戲）。主要的單人遊戲由育碧蒙特婁進行開發，並且由育碧安納西進行多人遊戲的開發。該系列產品受到了大部分評論家的好評。\n",
      "A. 看門狗\n",
      "B. 極地戰嚎\n",
      "C. 刺客教條\n",
      "基督教是信仰誰為神之聖子與救世主?\n",
      "https://www.google.com/search?q=基督教是信仰誰為神之聖子與救世主?\n",
      "A. 十字架\n",
      "B. 耶穌\n",
      "C. 阿拉\n",
      "何者為亞洲國際組織?\n",
      "https://www.google.com/search?q=何者為亞洲國際組織?\n",
      "A. 北大西洋公約組織\n",
      "B. 亞太經濟合作會議\n",
      "C. 阿拉伯議會聯盟\n",
      "下列何者不是威廉·莎士比亞著名戲劇作品之一?\n",
      "https://www.google.com/search?q=下列何者不是威廉·莎士比亞著名戲劇作品之一?\n",
      "A. 羅密歐與茱麗葉\n",
      "B. 哈姆雷特\n",
      "C. 蒙泰基奧\n",
      "夏目漱石為一日本小說家，請問何者為他長篇小說，是日本當代最受歡迎的小說之一?\n",
      "https://www.google.com/search?q=夏目漱石為一日本小說家，請問何者為他長篇小說，是日本當代最受歡迎的小說之一?\n",
      "A. 羅生門\n",
      "B. 少爺\n",
      "C. 風中奇緣\n",
      "下列哪種語言是全世界最多國家的官方語言?\n",
      "https://www.google.com/search?q=下列哪種語言是全世界最多國家的官方語言?\n",
      "A. 英語\n",
      "B. 法語\n",
      "C. 國語\n",
      "哪者是是用於彩現2D、3D向量圖形的跨語言、跨平台的應用程式編程埠（API）。這個埠由近350個不同的函式呼叫組成，用來從簡單的圖形位元繪製複雜的三維景象。而另一種程式介面系統是僅用於Microsoft Windows上的Direct3D。OpenGL常用於CAD、虛擬實境、科學視覺化程式和電子遊戲開發\n",
      "https://www.google.com/search?q=哪者是是用於彩現2D、3D向量圖形的跨語言、跨平台的應用程式編程埠（API）。這個埠由近350個不同的函式呼叫組成，用來從簡單的圖形位元繪製複雜的三維景象。而另一種程式介面系統是僅用於Microsoft Windows上的Direct3D。OpenGL常用於CAD、虛擬實境、科學視覺化程式和電子遊戲開發\n",
      "A. JAVA\n",
      "B. OpenGL\n",
      "C. CUDA\n",
      "火力發電廠主要化石燃料是?\n",
      "https://www.google.com/search?q=火力發電廠主要化石燃料是?\n",
      "A. 二氧化碳\n",
      "B. 紙\n",
      "C. 煤\n",
      "哪位政治人物為民進黨提名參選桃園直轄市市長選舉，以五成餘的得票率爆冷門擊敗尋求連任的中國國民黨籍縣長吳志揚，當選桃園縣升格為直轄市後的首任桃園市市長，並以47歲之齡成為中華民國歷史上第二年輕的直轄市市長，僅次於陳水扁當選臺北市市長時的44歲 。2018年，在桃園市長選舉順利連任，成為民進黨首位以換屆選舉連任的桃園市市長當選（呂秀蓮是以補選上任，首位民進黨籍桃園縣長）。\n",
      "https://www.google.com/search?q=哪位政治人物為民進黨提名參選桃園直轄市市長選舉，以五成餘的得票率爆冷門擊敗尋求連任的中國國民黨籍縣長吳志揚，當選桃園縣升格為直轄市後的首任桃園市市長，並以47歲之齡成為中華民國歷史上第二年輕的直轄市市長，僅次於陳水扁當選臺北市市長時的44歲 。2018年，在桃園市長選舉順利連任，成為民進黨首位以換屆選舉連任的桃園市市長當選（呂秀蓮是以補選上任，首位民進黨籍桃園縣長）。\n",
      "A. 馬英九\n",
      "B. 鄭文燦\n",
      "C. 盧秀燕\n",
      "哪部電影是一部1931年的美國愛情喜劇電影，由查理·卓別林自編自導自演。本片講述了卓別林飾演的流浪漢愛上了一位賣花盲女，還結交了一位反覆無常的酗酒富翁的故事。卓別林於1928年開始創作劇本時，有聲電影的勢頭在增長，但他還是決定把本片做成默片。拍攝工作從1928年12月開始，到1930年9月結束。\n",
      "https://www.google.com/search?q=哪部電影是一部1931年的美國愛情喜劇電影，由查理·卓別林自編自導自演。本片講述了卓別林飾演的流浪漢愛上了一位賣花盲女，還結交了一位反覆無常的酗酒富翁的故事。卓別林於1928年開始創作劇本時，有聲電影的勢頭在增長，但他還是決定把本片做成默片。拍攝工作從1928年12月開始，到1930年9月結束。\n",
      "A. 馬戲團\n",
      "B. 城市之光\n",
      "C. 淘金記\n",
      "哪位政治人物是臺灣新竹市人，中華民國外科醫師、無黨籍政治人物，現任臺北市市長。國立臺灣大學醫學院臨床醫學研究所博士畢業，曾任臺大醫院急診部醫師、臺大醫院創傷醫學部主任、臺大醫學院教授，專長為外科重症醫學、器官移植 、人工器官等，是臺灣第一個急診與重症加護專職醫生，為臺灣器官標準移植程序的建立者，也是首位將葉克膜（ECMO）技術引進臺灣的醫師。綽號柯P、KP\n",
      "https://www.google.com/search?q=哪位政治人物是臺灣新竹市人，中華民國外科醫師、無黨籍政治人物，現任臺北市市長。國立臺灣大學醫學院臨床醫學研究所博士畢業，曾任臺大醫院急診部醫師、臺大醫院創傷醫學部主任、臺大醫學院教授，專長為外科重症醫學、器官移植 、人工器官等，是臺灣第一個急診與重症加護專職醫生，為臺灣器官標準移植程序的建立者，也是首位將葉克膜（ECMO）技術引進臺灣的醫師。綽號柯P、KP\n",
      "A. 柯文哲\n",
      "B. 姚文智\n",
      "C. 韓國瑜\n",
      "哪者是一種特殊的惡意軟體，又被人歸類為「阻斷存取式攻擊」（denial-of-access attack），其與其他病毒最大的不同在於手法以及中毒方式。其中一種僅是單純地將受害者的電腦鎖起來，而另一種則系統性地加密受害者硬碟上的檔案。所有的軟體都會要求受害者繳納贖金以取回對電腦的控制權，或是取回受害者根本無從自行取得的解密金鑰以便解密檔案。軟體通常透過木馬病毒的形式傳播，將自身為掩蓋為看似無害的檔案，通常會通過假冒成普通的電子郵件等社會工程學方法欺騙受害者點選連結下載，但也有可能與許多其他蠕蟲病毒一樣利用軟體的漏洞在聯網的電腦間傳播。\n",
      "https://www.google.com/search?q=哪者是一種特殊的惡意軟體，又被人歸類為「阻斷存取式攻擊」（denial-of-access attack），其與其他病毒最大的不同在於手法以及中毒方式。其中一種僅是單純地將受害者的電腦鎖起來，而另一種則系統性地加密受害者硬碟上的檔案。所有的軟體都會要求受害者繳納贖金以取回對電腦的控制權，或是取回受害者根本無從自行取得的解密金鑰以便解密檔案。軟體通常透過木馬病毒的形式傳播，將自身為掩蓋為看似無害的檔案，通常會通過假冒成普通的電子郵件等社會工程學方法欺騙受害者點選連結下載，但也有可能與許多其他蠕蟲病毒一樣利用軟體的漏洞在聯網的電腦間傳播。\n",
      "A. 恐嚇軟體\n",
      "B. 勒索軟體\n",
      "C. 灰色軟體\n",
      "《戰地風雲1》（英語：Battlefield 1，中國大陸譯作「戰地1」）是一款由什麼工作室開發? 的第一人稱射擊遊戲。本作是《戰地風雲》系列第13款作品也是繼《戰地風雲4》後再一次以數字編號的正統作品，其編號為「1」意謂本作舞台為現代化戰爭之原點與史上第一場全球性大規模戰爭的第「1」次世界大戰。\n",
      "https://www.google.com/search?q=《戰地風雲1》（英語：Battlefield 1，中國大陸譯作「戰地1」）是一款由什麼工作室開發? 的第一人稱射擊遊戲。本作是《戰地風雲》系列第13款作品也是繼《戰地風雲4》後再一次以數字編號的正統作品，其編號為「1」意謂本作舞台為現代化戰爭之原點與史上第一場全球性大規模戰爭的第「1」次世界大戰。\n",
      "A. EA DICE\n",
      "B. Bungie\n",
      "C. Treyarch\n",
      "是一部於2014年上映的美國超級英雄電影，美國隊長的續集，由安東尼及喬·羅素共同執導。\n",
      "https://www.google.com/search?q=是一部於2014年上映的美國超級英雄電影，美國隊長的續集，由安東尼及喬·羅素共同執導。\n",
      "A. 無限之戰\n",
      "B. 奧創紀元\n",
      "C. 酷寒戰士\n",
      "哪場在法國稱1870年法德戰爭，在德國稱德法戰爭，是普魯士為了統一德國，並與法國爭奪歐洲大陸霸權而爆發的戰爭。戰爭是由法國發動，最後以普魯士大獲全勝，建立德意志帝國告終。\n",
      "https://www.google.com/search?q=哪場在法國稱1870年法德戰爭，在德國稱德法戰爭，是普魯士為了統一德國，並與法國爭奪歐洲大陸霸權而爆發的戰爭。戰爭是由法國發動，最後以普魯士大獲全勝，建立德意志帝國告終。\n",
      "A. 普法戰爭\n",
      "B. 半島戰爭\n",
      "C. 普魯士統一戰爭\n",
      "是日本的幫派組織中規模最大的指定暴力團。為全世界規模最龐大、收入最多的黑道組織之一，一年收入約66億美金。\n",
      "https://www.google.com/search?q=是日本的幫派組織中規模最大的指定暴力團。為全世界規模最龐大、收入最多的黑道組織之一，一年收入約66億美金。\n",
      "A. 老鼠會\n",
      "B. 極東會\n",
      "C. 山口組\n",
      "請問下列何者跟吳哥古蹟一樣，屬於世界文化遺產?\n",
      "https://www.google.com/search?q=請問下列何者跟吳哥古蹟一樣，屬於世界文化遺產?\n",
      "A. 石塊\n",
      "B. 建築\n",
      "C. 泰姬瑪哈陵\n",
      " 法國的首都是? \n",
      "https://www.google.com/search?q= 法國的首都是? \n",
      "A. 芝加哥\n",
      "B. 巴黎\n",
      "C. 土魯斯\n",
      " 哆啦A夢是哪個漫畫家的作品? \n",
      "https://www.google.com/search?q= 哆啦A夢是哪個漫畫家的作品? \n",
      "A. 藤子·F·不二雄\n",
      "B. 大雄\n",
      "C. 尾田榮一郎\n",
      "什麼戰役，又名英倫空戰，是第二次世界大戰期間納粹德國對英國發動的大規模空戰，而這次戰爭亦是第二次世界大戰中規模最大的空戰? 除了英、德兩國之外包括同屬大英國協的紐西蘭、加拿大、澳洲、南非、愛爾蘭、牙買加、斯里蘭卡、南羅德西亞等國的空勤人員也投入英軍。\n",
      "https://www.google.com/search?q=什麼戰役，又名英倫空戰，是第二次世界大戰期間納粹德國對英國發動的大規模空戰，而這次戰爭亦是第二次世界大戰中規模最大的空戰? 除了英、德兩國之外包括同屬大英國協的紐西蘭、加拿大、澳洲、南非、愛爾蘭、牙買加、斯里蘭卡、南羅德西亞等國的空勤人員也投入英軍。\n",
      "A. 迪耶普戰役\n",
      "B. 克里特島戰役\n",
      "C. 不列顛戰役\n",
      "電腦科學名詞，當兩個以上的運算單元，雙方都在等待對方停止執行，以取得系統資源，但是沒有一方提前登出時，就稱為?\n",
      "https://www.google.com/search?q=電腦科學名詞，當兩個以上的運算單元，雙方都在等待對方停止執行，以取得系統資源，但是沒有一方提前登出時，就稱為?\n",
      "A. 頻寬\n",
      "B. 類比\n",
      "C. 死結\n",
      "哪部是日本小說家野村美月撰寫的輕小說系列，竹岡美穗繪製插畫，簡稱「文少」。系列全16冊（長篇8冊、短篇集4冊、外傳4冊），另有包括漫畫和動畫在內的多種跨媒體改編。\n",
      "https://www.google.com/search?q=哪部是日本小說家野村美月撰寫的輕小說系列，竹岡美穗繪製插畫，簡稱「文少」。系列全16冊（長篇8冊、短篇集4冊、外傳4冊），另有包括漫畫和動畫在內的多種跨媒體改編。\n",
      "A. 月兔公主\n",
      "B. 文學少女\n",
      "C. 櫻花莊的寵物女孩\n",
      "是臺灣第五座國家公園，可溯至日治時期成立之次高太魯閣國立公園。公園內高山林立，峻秀壯觀，並有稀有的台灣寬尾鳳蝶，及瀕臨絕種的櫻花鉤吻鮭，是臺灣登山路線最多、最複雜的國家公園。\n",
      "https://www.google.com/search?q=是臺灣第五座國家公園，可溯至日治時期成立之次高太魯閣國立公園。公園內高山林立，峻秀壯觀，並有稀有的台灣寬尾鳳蝶，及瀕臨絕種的櫻花鉤吻鮭，是臺灣登山路線最多、最複雜的國家公園。\n",
      "A. 玉山國家公園\n",
      "B. 太魯閣國家公園\n",
      "C. 雪霸國家公園\n",
      "德國哪個時期亦稱德意志第二帝國，是指從1871年1月18日普魯士王國統一日耳曼地區到1918年11月霍亨索倫王朝末任皇帝威廉二世退位為止的德國。\n",
      "https://www.google.com/search?q=德國哪個時期亦稱德意志第二帝國，是指從1871年1月18日普魯士王國統一日耳曼地區到1918年11月霍亨索倫王朝末任皇帝威廉二世退位為止的德國。\n",
      "A. 威瑪共和國\n",
      "B. 德意志帝國\n",
      "C. 納粹德國\n",
      "哪者是日本一家生產樂器、音響設備及音效產品的公司，現時是世界上最大的樂器生產商。總部位於靜岡縣濱松市，旗下子公司還經營家居設備及以摩托車為主的事業。於2004年開發電子音樂製作語音合成軟體核心引擎VOCALOID\n",
      "https://www.google.com/search?q=哪者是日本一家生產樂器、音響設備及音效產品的公司，現時是世界上最大的樂器生產商。總部位於靜岡縣濱松市，旗下子公司還經營家居設備及以摩托車為主的事業。於2004年開發電子音樂製作語音合成軟體核心引擎VOCALOID\n",
      "A. 川崎重工業‎\n",
      "B. 山葉公司\n",
      "C. 法蘭·山德公司\n",
      "創立於1993年1月，是一家以設計和銷售圖形處理器為主的無廠半導體公司。亦會設計遊戲機核心，例如Xbox和PlayStation。最出名的產品線是為個人與遊戲玩家所設計的GeForce系列。\n",
      "https://www.google.com/search?q=創立於1993年1月，是一家以設計和銷售圖形處理器為主的無廠半導體公司。亦會設計遊戲機核心，例如Xbox和PlayStation。最出名的產品線是為個人與遊戲玩家所設計的GeForce系列。\n",
      "A. NVIDIA\n",
      "B. 英特爾\n",
      "C. 微軟\n",
      "超級瑪利歐是任天堂的代表遊戲，下列何者也是?\n",
      "https://www.google.com/search?q=超級瑪利歐是任天堂的代表遊戲，下列何者也是?\n",
      "A. 光碟機\n",
      "B. 薩爾達傳說\n",
      "C. 遊戲機\n",
      "1945年時第二次世界大戰以什麼參戰方勝利宣告結束? 而二次大戰對世界影響極為深遠，改變往後世界的政治版圖和社會結構，特別是戰敗的軸心國集團被迫接受戰勝方的安排。\n",
      "https://www.google.com/search?q=1945年時第二次世界大戰以什麼參戰方勝利宣告結束? 而二次大戰對世界影響極為深遠，改變往後世界的政治版圖和社會結構，特別是戰敗的軸心國集團被迫接受戰勝方的安排。\n",
      "A. 協約國\n",
      "B. 軸心國\n",
      "C. 同盟國\n",
      "哪者是乃是總部設在日本靜岡縣濱松市的汽車、機車製造商，在日本輕型車市場中市佔率排行第一。\n",
      "https://www.google.com/search?q=哪者是乃是總部設在日本靜岡縣濱松市的汽車、機車製造商，在日本輕型車市場中市佔率排行第一。\n",
      "A. 本田技研工業\n",
      "B. 山葉公司\n",
      "C. 鈴木公司\n",
      "哪部是以台灣高雄捷運公司的虛擬代言人做為題材的輕小說系列，台灣由尖端出版社出版、日本由GA文庫出版。\n",
      "https://www.google.com/search?q=哪部是以台灣高雄捷運公司的虛擬代言人做為題材的輕小說系列，台灣由尖端出版社出版、日本由GA文庫出版。\n",
      "A. 前進吧！！北捷少男\n",
      "B. 前進吧！！中捷少爺\n",
      "C. 前進吧！！高捷少女\n",
      "下列何者是澳洲特有動物?\n",
      "https://www.google.com/search?q=下列何者是澳洲特有動物?\n",
      "A. 老鼠\n",
      "B. 塑膠袋\n",
      "C. 袋鼠\n",
      "哪部是日本作家鴨志田一創作的輕小說，溝口凱吉負責插畫，於2014年在電擊文庫出版。本系列作者、插畫、編輯都是由小說《櫻花莊的寵物女孩》原班人馬負責。2018年3月10日，在電擊文庫25周年作品發表時宣布動畫化，於2018年10月4日開始放送，預定2019年上映劇場版\n",
      "https://www.google.com/search?q=哪部是日本作家鴨志田一創作的輕小說，溝口凱吉負責插畫，於2014年在電擊文庫出版。本系列作者、插畫、編輯都是由小說《櫻花莊的寵物女孩》原班人馬負責。2018年3月10日，在電擊文庫25周年作品發表時宣布動畫化，於2018年10月4日開始放送，預定2019年上映劇場版\n",
      "A. 魔法少女奈葉\n",
      "B. 青春豬頭少年\n",
      "C. 從零開始的魔法書\n",
      "哪者是由NVIDIA開發的圖形處理器系列。本系列於2018年8月20日的Gamescom（科隆遊戲展）上發表，是GeForce GTX 10系列的後續版本, 系列基於圖靈(Turing)微架構，具有即時光線追蹤功能。通過使用RT核心（光線追蹤運算核心）可以加速這一過程。這些核心能夠高效處理四叉樹和球形層次結構，並在碰撞模擬的過程中更快地為三角面組成的立體模型進行物體碰撞模擬。\n",
      "https://www.google.com/search?q=哪者是由NVIDIA開發的圖形處理器系列。本系列於2018年8月20日的Gamescom（科隆遊戲展）上發表，是GeForce GTX 10系列的後續版本, 系列基於圖靈(Turing)微架構，具有即時光線追蹤功能。通過使用RT核心（光線追蹤運算核心）可以加速這一過程。這些核心能夠高效處理四叉樹和球形層次結構，並在碰撞模擬的過程中更快地為三角面組成的立體模型進行物體碰撞模擬。\n",
      "A. NVIDIA GeForce RTX 20系列\n",
      "B. OpenGL\n",
      "C. GeForce 8系列\n",
      "哪位政治人物為中華民國臺灣政治人物，出生於台南縣七股鄉，美國哈佛大學公共行政碩士。現任臺南市長，曾任臺南市第二選區立法委員。2016年立法委員選舉，以76.47%得票率、146,414票壓倒性票數，當選立法委員，得票率是全台立委候選人最高者，也是當屆選舉台灣本島第一個自行宣布當選的候選人；2018年台南市長選舉，以38%的得票率，勝過其他五位候選人，當選台南市長。\n",
      "https://www.google.com/search?q=哪位政治人物為中華民國臺灣政治人物，出生於台南縣七股鄉，美國哈佛大學公共行政碩士。現任臺南市長，曾任臺南市第二選區立法委員。2016年立法委員選舉，以76.47%得票率、146,414票壓倒性票數，當選立法委員，得票率是全台立委候選人最高者，也是當屆選舉台灣本島第一個自行宣布當選的候選人；2018年台南市長選舉，以38%的得票率，勝過其他五位候選人，當選台南市長。\n",
      "A. 馬英九\n",
      "B. 蔡英文\n",
      "C. 黃偉哲\n",
      "哪者是由NVIDIA開發的系統單晶片系列產品，2008年6月1日正式發表，替代之前的GoForce系列。主要用於手持式裝置。可搭配NVIDIA專為智慧型手機及平板電腦開發的NVIDIA Icera系列晶片組。 主要競爭對手是高通和德州儀器的對應產品。\n",
      "https://www.google.com/search?q=哪者是由NVIDIA開發的系統單晶片系列產品，2008年6月1日正式發表，替代之前的GoForce系列。主要用於手持式裝置。可搭配NVIDIA專為智慧型手機及平板電腦開發的NVIDIA Icera系列晶片組。 主要競爭對手是高通和德州儀器的對應產品。\n",
      "A. 圖睿\n",
      "B. GeForce\n",
      "C. NVIDIA Quadro\n",
      "哪者是一名美國著名企業家、投資者、軟體工程師、慈善家。他與保羅·艾倫一起創建微軟公司，曾任微軟董事長、CEO和首席軟體設計師，並持有公司超過8%的普通股，也是公司最大的個人股東。\n",
      "https://www.google.com/search?q=哪者是一名美國著名企業家、投資者、軟體工程師、慈善家。他與保羅·艾倫一起創建微軟公司，曾任微軟董事長、CEO和首席軟體設計師，並持有公司超過8%的普通股，也是公司最大的個人股東。\n",
      "A. 比爾·蓋茲\n",
      "B. 薩蒂亞·納德拉\n",
      "C. 史蒂芬·巴爾默\n",
      "哪者為是美商超微開發並推出市場的x86微處理器品牌，AMD Zen微架構的微處理器產品之一，其純CPU產品線於2017年3月上市販售，爲品牌命名的APU產品線於2017年10月上架。品牌於2016年12月13日AMD的New Horizon峰會上發表。中文名為「銳龍」。\n",
      "https://www.google.com/search?q=哪者為是美商超微開發並推出市場的x86微處理器品牌，AMD Zen微架構的微處理器產品之一，其純CPU產品線於2017年3月上市販售，爲品牌命名的APU產品線於2017年10月上架。品牌於2016年12月13日AMD的New Horizon峰會上發表。中文名為「銳龍」。\n",
      "A. AMD Ryzen\n",
      "B. AMD Bulldozer\n",
      "C. AMD Athlon 64 X2\n",
      "美國第35任總統，是美國頗具影響力的甘迺迪政治家族成員，被視為美國自由派的代表。於1963年11月22日在德克薩斯州達拉斯市遇刺身亡，官方在隨後的調查報告表明，李·奧斯華是刺殺的兇手，但奧斯華亦隨即被另一位刺客傑克·魯比刺殺，使得案件真相撲朔迷離。\n",
      "https://www.google.com/search?q=美國第35任總統，是美國頗具影響力的甘迺迪政治家族成員，被視為美國自由派的代表。於1963年11月22日在德克薩斯州達拉斯市遇刺身亡，官方在隨後的調查報告表明，李·奧斯華是刺殺的兇手，但奧斯華亦隨即被另一位刺客傑克·魯比刺殺，使得案件真相撲朔迷離。\n",
      "A. 約翰·甘迺迪\n",
      "B. 希拉蕊·柯林頓\n",
      "C. 唐納·川普\n",
      "什麼是一類以抑鬱心境為主要特點的情感障礙?\n",
      "https://www.google.com/search?q=什麼是一類以抑鬱心境為主要特點的情感障礙?\n",
      "A. 憂鬱症\n",
      "B. 發燒\n",
      "C. 流鼻水\n",
      "馬來西亞的首都是? \n",
      "https://www.google.com/search?q=馬來西亞的首都是? \n",
      "A. 吉隆坡\n",
      "B. 檳城\n",
      "C. 台北\n",
      "最大的特點是它受到刺激（如碰觸）時，葉面會收縮起來，而在光線較弱時比較敏感，平常葉枕內的水分支撐著葉片，但是當受到外力刺激時，葉枕內的水分會立即流向別處，使葉片閉合。\n",
      "https://www.google.com/search?q=最大的特點是它受到刺激（如碰觸）時，葉面會收縮起來，而在光線較弱時比較敏感，平常葉枕內的水分支撐著葉片，但是當受到外力刺激時，葉枕內的水分會立即流向別處，使葉片閉合。\n",
      "A. 含羞草\n",
      "B. 蒲公英\n",
      "C. 四葉草\n"
     ]
    }
   ],
   "source": [
    "for each in QUESTIONS:\n",
    "    print_question(each)"
   ]
  },
  {
   "cell_type": "code",
   "execution_count": null,
   "metadata": {},
   "outputs": [],
   "source": []
  },
  {
   "cell_type": "markdown",
   "metadata": {},
   "source": [
    "## Final Check"
   ]
  },
  {
   "cell_type": "code",
   "execution_count": 41,
   "metadata": {
    "code_folding": [],
    "scrolled": false
   },
   "outputs": [
    {
     "name": "stdout",
     "output_type": "stream",
     "text": [
      "Happy New Year!!!\n",
      "\n",
      "[\"B\", \"A\", \"A\", \"A\", \"A\", \"A\", \"A\", \"A\", \"B\", \"C\", \"B\", \"B\", \"A\", \"C\", \"A\", \"A\", \"B\", \"A\", \"A\", \"A\", \"B\", \"C\", \"B\", \"B\", \"A\", \"A\", \"A\", \"C\", \"B\", \"A\", \"B\", \"B\", \"B\", \"A\", \"B\", \"C\", \"B\", \"B\", \"C\", \"A\", \"A\", \"A\", \"C\", \"A\", \"C\", \"B\", \"A\", \"C\", \"B\", \"A\", \"B\", \"A\", \"B\", \"B\", \"A\", \"B\", \"C\", \"B\", \"A\", \"C\", \"B\", \"A\", \"B\", \"B\", \"A\", \"B\", \"C\", \"A\", \"A\", \"A\", \"A\", \"B\", \"A\", \"A\", \"C\", \"B\", \"B\", \"B\", \"C\", \"A\", \"B\", \"A\", \"C\", \"C\", \"C\", \"C\", \"B\", \"C\", \"A\", \"A\", \"A\", \"B\", \"A\", \"B\", \"B\", \"A\", \"A\", \"A\", \"A\", \"B\"]\n"
     ]
    },
    {
     "data": {
      "text/plain": [
       "True"
      ]
     },
     "execution_count": 41,
     "metadata": {},
     "output_type": "execute_result"
    }
   ],
   "source": [
    "validate_final_results(FINAL, len(QUESTIONS))"
   ]
  },
  {
   "cell_type": "code",
   "execution_count": null,
   "metadata": {},
   "outputs": [],
   "source": []
  },
  {
   "cell_type": "code",
   "execution_count": null,
   "metadata": {},
   "outputs": [],
   "source": []
  },
  {
   "cell_type": "code",
   "execution_count": 15,
   "metadata": {},
   "outputs": [],
   "source": [
    "backup = json.dumps(FINAL)"
   ]
  },
  {
   "cell_type": "code",
   "execution_count": 28,
   "metadata": {},
   "outputs": [
    {
     "name": "stdout",
     "output_type": "stream",
     "text": [
      "[\"B\", \"A\", \"A\", \"A\", \"A\", \"A\", \"A\", \"C\", \"B\", \"C\", \"B\", \"B\", \"A\", \"C\", \"A\", \"A\", \"B\", \"A\", \"A\", \"A\", \"B\", \"C\", \"B\", \"B\", \"A\", \"A\", \"A\", \"C\", \"B\", \"A\", \"B\", \"B\", \"B\", \"A\", \"B\", \"C\", \"B\", \"B\", \"C\", \"A\", \"A\", \"A\", \"C\", \"A\", \"A\", \"B\", \"A\", \"C\", \"B\", \"A\", \"B\", \"A\", \"B\", \"B\", \"A\", \"B\", \"C\", \"B\", \"A\", \"C\", \"B\", \"A\", \"B\", \"B\", \"A\", \"B\", \"C\", \"A\", \"A\", \"A\", \"A\", \"B\", \"A\", \"A\", \"C\", \"B\", \"B\", \"B\", \"C\", \"A\", \"B\", \"A\", \"C\", \"C\", \"C\", \"C\", \"B\", \"C\", \"A\", \"A\", \"A\", \"B\", \"A\", \"B\", \"B\", \"A\", \"A\", \"A\", \"A\", \"B\"]\n"
     ]
    }
   ],
   "source": [
    "print(backup)"
   ]
  },
  {
   "cell_type": "code",
   "execution_count": null,
   "metadata": {},
   "outputs": [],
   "source": []
  },
  {
   "cell_type": "code",
   "execution_count": null,
   "metadata": {},
   "outputs": [],
   "source": []
  },
  {
   "cell_type": "markdown",
   "metadata": {},
   "source": [
    "# Simulate Single Question"
   ]
  },
  {
   "cell_type": "code",
   "execution_count": null,
   "metadata": {},
   "outputs": [],
   "source": [
    "test_question = {\n",
    "    \"Question\": \"中華民國第14任總統，民主進步黨第16屆黨主席，同時也是台灣歷史上首位女性元首，她是:\",\n",
    "    \"A\":\"蔡正元\",\n",
    "    \"B\":\"蔡英文\",\n",
    "    \"C\":\"洪慈庸\"\n",
    "}"
   ]
  },
  {
   "cell_type": "code",
   "execution_count": null,
   "metadata": {},
   "outputs": [],
   "source": [
    "answer, error, result = run_solve(test_question)"
   ]
  },
  {
   "cell_type": "code",
   "execution_count": null,
   "metadata": {},
   "outputs": [],
   "source": [
    "print_question(test_question)"
   ]
  },
  {
   "cell_type": "code",
   "execution_count": null,
   "metadata": {},
   "outputs": [],
   "source": [
    "print_error(error, result)"
   ]
  },
  {
   "cell_type": "code",
   "execution_count": null,
   "metadata": {
    "scrolled": true
   },
   "outputs": [],
   "source": [
    "print(answer)"
   ]
  }
 ],
 "metadata": {
  "kernelspec": {
   "display_name": "Python 3",
   "language": "python",
   "name": "python3"
  },
  "language_info": {
   "codemirror_mode": {
    "name": "ipython",
    "version": 3
   },
   "file_extension": ".py",
   "mimetype": "text/x-python",
   "name": "python",
   "nbconvert_exporter": "python",
   "pygments_lexer": "ipython3",
   "version": "3.7.3"
  }
 },
 "nbformat": 4,
 "nbformat_minor": 2
}
