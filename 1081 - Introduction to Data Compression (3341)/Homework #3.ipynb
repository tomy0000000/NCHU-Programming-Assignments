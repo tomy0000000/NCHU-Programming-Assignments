{
 "cells": [
  {
   "cell_type": "markdown",
   "metadata": {},
   "source": [
    "# Data Compression - Homework #3"
   ]
  },
  {
   "cell_type": "markdown",
   "metadata": {},
   "source": [
    "## Imports and helper functions"
   ]
  },
  {
   "cell_type": "code",
   "execution_count": 2,
   "metadata": {
    "code_folding": []
   },
   "outputs": [],
   "source": [
    "import random\n",
    "import numpy as np\n",
    "import matplotlib.pyplot as plt\n",
    "from math import log\n",
    "%matplotlib inline\n",
    "def random_bin():\n",
    "    return \"0\" if random.randint(1,10)<=8 else \"1\"\n",
    "def generate_sequence(length):\n",
    "    return \"\".join([random_bin() for _ in range(length)])\n",
    "def bin_to_float(bin_sequence):\n",
    "    res = 0\n",
    "    for ind, bit in enumerate(bin_sequence[2:]):\n",
    "        step = -(ind+1)\n",
    "        if bit == \"1\":\n",
    "            res += 2**step\n",
    "    return res\n",
    "def float_to_bin(n):\n",
    "    div = 0.5\n",
    "    res = \"0.\"\n",
    "    while n != 0:\n",
    "        res += str(int(n//div))\n",
    "        n %= div\n",
    "        div /= 2\n",
    "    return res\n",
    "def arithmetic_encoding(sequence, seperator):\n",
    "    upper = 1\n",
    "    middle = seperator\n",
    "    lower = 0\n",
    "    for bit in sequence:\n",
    "        if bit == \"0\":\n",
    "            upper = middle\n",
    "        else:\n",
    "            lower = middle\n",
    "        middle = lower + (upper-lower)*seperator\n",
    "    tag = (lower+upper)/2\n",
    "    bin_tag = float_to_bin(tag)\n",
    "    bin_length = 6\n",
    "    tag = bin_to_float(bin_tag[:bin_length])\n",
    "    while tag<lower or upper<tag:\n",
    "        bin_length += 1\n",
    "        tag = bin_to_float(bin_tag[:bin_length])\n",
    "    bin_tag = bin_tag[:bin_length]\n",
    "    return tag, bin_tag"
   ]
  },
  {
   "cell_type": "markdown",
   "metadata": {},
   "source": [
    "## Arithmetic Encoding Example"
   ]
  },
  {
   "cell_type": "code",
   "execution_count": 3,
   "metadata": {},
   "outputs": [
    {
     "name": "stdout",
     "output_type": "stream",
     "text": [
      "random 20 bits long binary sequence: 00101000100000010000\n",
      "Arithmetic Encoded Tag: 0.602752685546875 (0.100110100100111)\n"
     ]
    }
   ],
   "source": [
    "sequence = generate_sequence(20)\n",
    "print(\"random {} bits long binary sequence: {}\".format(20, sequence))\n",
    "tag, bin_tag = arithmetic_encoding(sequence, 0.8)\n",
    "print(\"Arithmetic Encoded Tag: {} ({})\".format(tag, bin_tag))"
   ]
  },
  {
   "cell_type": "markdown",
   "metadata": {},
   "source": [
    "## Plot functions of length and entropy"
   ]
  },
  {
   "cell_type": "code",
   "execution_count": 4,
   "metadata": {
    "scrolled": true
   },
   "outputs": [
    {
     "data": {
      "image/png": "[encoded data removed]",
      "text/plain": [
       "<Figure size 432x288 with 1 Axes>"
      ]
     },
     "metadata": {
      "needs_background": "light"
     },
     "output_type": "display_data"
    }
   ],
   "source": [
    "FROM = 5\n",
    "TO = 50\n",
    "SAMPLES = 1000\n",
    "ENTROPY = -0.8*log(0.8, 2)-0.2*log(0.2, 2)\n",
    "rates = []\n",
    "for L in range(FROM, TO+1):\n",
    "    tmp_rates = []\n",
    "    for ind in range(SAMPLES):\n",
    "        sequence = generate_sequence(L)\n",
    "        tag, bin_tag = arithmetic_encoding(sequence, 0.8)\n",
    "        rate = (len(bin_tag)-2)/L\n",
    "        tmp_rates.append(rate)\n",
    "    rates.append(np.mean(tmp_rates))\n",
    "plt.axis([FROM, TO, 0.5, 2])\n",
    "plt.plot(range(FROM, TO+1), [ENTROPY]*(TO-FROM+1))\n",
    "plt.plot(range(FROM, TO+1), rates)\n",
    "plt.xlabel(\"Length (L)\")\n",
    "plt.ylabel(\"Compress Rate (bits/symbol)\")\n",
    "plt.show()"
   ]
  },
  {
   "cell_type": "markdown",
   "metadata": {},
   "source": [
    "## Conclusion\n",
    "\n",
    "By Observing the plot, we can discover that besides when the sequence length (L) is too short (L<10), arithmetic encoding have a extraordinary compress rate which almost hit the entropy."
   ]
  }
 ],
 "metadata": {
  "kernelspec": {
   "display_name": "Python 3",
   "language": "python",
   "name": "python3"
  },
  "language_info": {
   "codemirror_mode": {
    "name": "ipython",
    "version": 3
   },
   "file_extension": ".py",
   "mimetype": "text/x-python",
   "name": "python",
   "nbconvert_exporter": "python",
   "pygments_lexer": "ipython3",
   "version": "3.7.3"
  }
 },
 "nbformat": 4,
 "nbformat_minor": 2
}
