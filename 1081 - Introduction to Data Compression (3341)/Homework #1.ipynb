{
 "cells": [
  {
   "cell_type": "markdown",
   "metadata": {},
   "source": [
    "# Data Compression - Homework #1"
   ]
  },
  {
   "cell_type": "markdown",
   "metadata": {},
   "source": [
    "## Problem 2.5 - (a)"
   ]
  },
  {
   "cell_type": "code",
   "execution_count": 2,
   "metadata": {},
   "outputs": [],
   "source": [
    "import cv2\n",
    "import numpy as np\n",
    "from scipy.special import xlogy\n",
    "image = cv2.imread(\"Lenna.png\", 0) # Read Image in Gray Scale\n",
    "data = np.concatenate(image, axis=None) # Concatenate 2D arrays into 1D array"
   ]
  },
  {
   "cell_type": "code",
   "execution_count": 3,
   "metadata": {},
   "outputs": [
    {
     "name": "stdout",
     "output_type": "stream",
     "text": [
      "First Order Entropy: 218560816.0\n"
     ]
    }
   ],
   "source": [
    "first_order_entropy = (xlogy(-data, data) / np.log(2)).sum()\n",
    "print(\"First Order Entropy: {}\".format(first_order_entropy))"
   ]
  },
  {
   "cell_type": "markdown",
   "metadata": {},
   "source": [
    "## Problem 2.5 - (b)"
   ]
  },
  {
   "cell_type": "code",
   "execution_count": 4,
   "metadata": {},
   "outputs": [],
   "source": [
    "a = data[:-1].copy()\n",
    "b = data[1:].copy()\n",
    "second_data = a*b"
   ]
  },
  {
   "cell_type": "code",
   "execution_count": 5,
   "metadata": {
    "scrolled": true
   },
   "outputs": [
    {
     "name": "stdout",
     "output_type": "stream",
     "text": [
      "Second Order Entropy: 192747600.0\n"
     ]
    }
   ],
   "source": [
    "second_order_entropy = (xlogy(-second_data, second_data) / np.log(2)).sum()\n",
    "print(\"Second Order Entropy: {}\".format(second_order_entropy))"
   ]
  },
  {
   "cell_type": "markdown",
   "metadata": {},
   "source": [
    "#### Conclusion\n",
    "By observing results from (a) and (b) we can discover that for same image, first-order entropy and second-order entropy tends to have similar results."
   ]
  },
  {
   "cell_type": "markdown",
   "metadata": {},
   "source": [
    "## Problem 2.5 - (c)"
   ]
  },
  {
   "cell_type": "code",
   "execution_count": 7,
   "metadata": {},
   "outputs": [],
   "source": [
    "differences = a-b\n",
    "distridution = [0]*256\n",
    "for each in differences:\n",
    "    distridution[each] += 1"
   ]
  },
  {
   "cell_type": "code",
   "execution_count": 8,
   "metadata": {
    "scrolled": true
   },
   "outputs": [
    {
     "name": "stdout",
     "output_type": "stream",
     "text": [
      "[34337, 18843, 19229, 15650, 10188, 7953, 6130, 4061, 3578, 2562]\n",
      "[2, 5, 1, 2, 2, 1, 0, 1, 2, 1]\n",
      "[2485, 2948, 4077, 4653, 7026, 9237, 11946, 17611, 21092, 20285]\n"
     ]
    }
   ],
   "source": [
    "print(distridution[:10])\n",
    "print(distridution[123:133])\n",
    "print(distridution[-10:])"
   ]
  },
  {
   "cell_type": "markdown",
   "metadata": {},
   "source": [
    "#### Conclusion\n",
    "By observing the distribution of differences between neighbor pixels, we can see pixels place near each other will either be similar color or something completly different (color shape borders)."
   ]
  }
 ],
 "metadata": {
  "kernelspec": {
   "display_name": "Python 3",
   "language": "python",
   "name": "python3"
  },
  "language_info": {
   "codemirror_mode": {
    "name": "ipython",
    "version": 3
   },
   "file_extension": ".py",
   "mimetype": "text/x-python",
   "name": "python",
   "nbconvert_exporter": "python",
   "pygments_lexer": "ipython3",
   "version": "3.7.3"
  }
 },
 "nbformat": 4,
 "nbformat_minor": 2
}
